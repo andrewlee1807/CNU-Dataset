{
 "cells": [
  {
   "cell_type": "code",
   "execution_count": 1,
   "metadata": {
    "collapsed": true
   },
   "outputs": [],
   "source": [
    "import pandas as pd"
   ]
  },
  {
   "cell_type": "code",
   "execution_count": 2,
   "outputs": [],
   "source": [
    "list_path_file = []\n",
    "\n",
    "list_path_file.append(\"공대3호관 HV_01.csv\")\n",
    "list_path_file.append(\"공대7호관 HV_02.csv\")\n",
    "list_path_file.append(\"농생대3호관 HV_02 .csv\")\n",
    "list_path_file.append(\"농생대4호관 HV_01 .csv\")\n",
    "list_path_file.append(\"대학본부 HV_02.csv\")\n",
    "list_path_file.append(\"진리관 CS_02.csv\")\n",
    "\n",
    "list_building_name = [\n",
    "    \"공대3호관\",\n",
    "    \"공대7호관\",\n",
    "    \"농생대3호관\",\n",
    "    \"농생대4호관\",\n",
    "    \"대학본부\",\n",
    "    \"진리관\"\n",
    "]\n",
    "\n",
    "list_columns = ['date', 'temperatures(C)', 'humidity(%)', 'pressure(hPa)', 'energy']\n",
    "new_columns = ['date', 'temperatures', 'humidity', 'pressure', 'energy']\n"
   ],
   "metadata": {
    "collapsed": false
   }
  },
  {
   "cell_type": "code",
   "execution_count": 3,
   "outputs": [],
   "source": [
    "df = pd.DataFrame(columns=new_columns + ['building'])"
   ],
   "metadata": {
    "collapsed": false
   }
  },
  {
   "cell_type": "code",
   "execution_count": 4,
   "outputs": [
    {
     "data": {
      "text/plain": "Empty DataFrame\nColumns: [date, temperatures, humidity, pressure, energy, building]\nIndex: []",
      "text/html": "<div>\n<style scoped>\n    .dataframe tbody tr th:only-of-type {\n        vertical-align: middle;\n    }\n\n    .dataframe tbody tr th {\n        vertical-align: top;\n    }\n\n    .dataframe thead th {\n        text-align: right;\n    }\n</style>\n<table border=\"1\" class=\"dataframe\">\n  <thead>\n    <tr style=\"text-align: right;\">\n      <th></th>\n      <th>date</th>\n      <th>temperatures</th>\n      <th>humidity</th>\n      <th>pressure</th>\n      <th>energy</th>\n      <th>building</th>\n    </tr>\n  </thead>\n  <tbody>\n  </tbody>\n</table>\n</div>"
     },
     "execution_count": 4,
     "metadata": {},
     "output_type": "execute_result"
    }
   ],
   "source": [
    "df"
   ],
   "metadata": {
    "collapsed": false
   }
  },
  {
   "cell_type": "code",
   "execution_count": 5,
   "outputs": [
    {
     "name": "stderr",
     "output_type": "stream",
     "text": [
      "C:\\Users\\Andrew\\AppData\\Local\\Temp\\ipykernel_78980\\510509849.py:8: FutureWarning: The frame.append method is deprecated and will be removed from pandas in a future version. Use pandas.concat instead.\n",
      "  df = df.append(df_temp, ignore_index=True)\n",
      "C:\\Users\\Andrew\\AppData\\Local\\Temp\\ipykernel_78980\\510509849.py:8: FutureWarning: The frame.append method is deprecated and will be removed from pandas in a future version. Use pandas.concat instead.\n",
      "  df = df.append(df_temp, ignore_index=True)\n",
      "C:\\Users\\Andrew\\AppData\\Local\\Temp\\ipykernel_78980\\510509849.py:8: FutureWarning: The frame.append method is deprecated and will be removed from pandas in a future version. Use pandas.concat instead.\n",
      "  df = df.append(df_temp, ignore_index=True)\n",
      "C:\\Users\\Andrew\\AppData\\Local\\Temp\\ipykernel_78980\\510509849.py:8: FutureWarning: The frame.append method is deprecated and will be removed from pandas in a future version. Use pandas.concat instead.\n",
      "  df = df.append(df_temp, ignore_index=True)\n",
      "C:\\Users\\Andrew\\AppData\\Local\\Temp\\ipykernel_78980\\510509849.py:8: FutureWarning: The frame.append method is deprecated and will be removed from pandas in a future version. Use pandas.concat instead.\n",
      "  df = df.append(df_temp, ignore_index=True)\n",
      "C:\\Users\\Andrew\\AppData\\Local\\Temp\\ipykernel_78980\\510509849.py:8: FutureWarning: The frame.append method is deprecated and will be removed from pandas in a future version. Use pandas.concat instead.\n",
      "  df = df.append(df_temp, ignore_index=True)\n"
     ]
    }
   ],
   "source": [
    "for file_name, building_name in zip(list_path_file, list_building_name):\n",
    "    df_temp = pd.read_csv(file_name)\n",
    "    df_temp = df_temp[list_columns]  # select columns\n",
    "    df_temp.columns = new_columns  # rename columns\n",
    "    df_temp['date'] = pd.to_datetime(df_temp['date'])  # convert to datetime\n",
    "    df_temp.sort_values(['date'], ascending=[True], inplace=True)\n",
    "    df_temp['building'] = building_name\n",
    "    df = df.append(df_temp, ignore_index=True)"
   ],
   "metadata": {
    "collapsed": false
   }
  },
  {
   "cell_type": "code",
   "execution_count": 6,
   "outputs": [
    {
     "name": "stdout",
     "output_type": "stream",
     "text": [
      "<class 'pandas.core.frame.DataFrame'>\n",
      "RangeIndex: 67254 entries, 0 to 67253\n",
      "Data columns (total 6 columns):\n",
      " #   Column        Non-Null Count  Dtype         \n",
      "---  ------        --------------  -----         \n",
      " 0   date          67254 non-null  datetime64[ns]\n",
      " 1   temperatures  67236 non-null  float64       \n",
      " 2   humidity      67230 non-null  float64       \n",
      " 3   pressure      67068 non-null  float64       \n",
      " 4   energy        67254 non-null  float64       \n",
      " 5   building      67254 non-null  object        \n",
      "dtypes: datetime64[ns](1), float64(4), object(1)\n",
      "memory usage: 3.1+ MB\n"
     ]
    }
   ],
   "source": [
    "df.info()"
   ],
   "metadata": {
    "collapsed": false
   }
  },
  {
   "cell_type": "code",
   "execution_count": 7,
   "outputs": [
    {
     "name": "stdout",
     "output_type": "stream",
     "text": [
      "Null values in each column:\n",
      "date              0\n",
      "temperatures     18\n",
      "humidity         24\n",
      "pressure        186\n",
      "energy            0\n",
      "building          0\n",
      "dtype: int64\n",
      "\n",
      "\n",
      "Details of rows with null values:\n",
      "\n",
      "\n",
      "\n",
      "Index of rows with null values:\n",
      "[6522, 6523, 6524, 6525, 6526, 6527, 6528, 6529, 6530, 6531, 6532, 6533, 6534, 6535, 6536, 6537, 6538, 6539, 6540, 6541, 6542, 6543, 6544, 6545, 6546, 6547, 6548, 6549, 6550, 6551, 6552, 17731, 17732, 17733, 17734, 17735, 17736, 17737, 17738, 17739, 17740, 17741, 17742, 17743, 17744, 17745, 17746, 17747, 17748, 17749, 17750, 17751, 17752, 17753, 17754, 17755, 17756, 17757, 17758, 17759, 17760, 17761, 28940, 28941, 28942, 28943, 28944, 28945, 28946, 28947, 28948, 28949, 28950, 28951, 28952, 28953, 28954, 28955, 28956, 28957, 28958, 28959, 28960, 28961, 28962, 28963, 28964, 28965, 28966, 28967, 28968, 28969, 28970, 40149, 40150, 40151, 40152, 40153, 40154, 40155, 40156, 40157, 40158, 40159, 40160, 40161, 40162, 40163, 40164, 40165, 40166, 40167, 40168, 40169, 40170, 40171, 40172, 40173, 40174, 40175, 40176, 40177, 40178, 40179, 51358, 51359, 51360, 51361, 51362, 51363, 51364, 51365, 51366, 51367, 51368, 51369, 51370, 51371, 51372, 51373, 51374, 51375, 51376, 51377, 51378, 51379, 51380, 51381, 51382, 51383, 51384, 51385, 51386, 51387, 51388, 62567, 62568, 62569, 62570, 62571, 62572, 62573, 62574, 62575, 62576, 62577, 62578, 62579, 62580, 62581, 62582, 62583, 62584, 62585, 62586, 62587, 62588, 62589, 62590, 62591, 62592, 62593, 62594, 62595, 62596, 62597]\n"
     ]
    },
    {
     "data": {
      "text/plain": "                     date  temperatures  humidity  pressure   energy building\n6522  2021-09-29 18:00:00           NaN       NaN       NaN  114.688    공대3호관\n6523  2021-09-29 19:00:00           NaN       NaN       NaN   98.304    공대3호관\n6524  2021-09-29 20:00:00           NaN       NaN       NaN   90.112    공대3호관\n6525  2021-09-29 21:00:00          22.3      99.0       NaN   90.112    공대3호관\n6526  2021-09-29 22:00:00          21.9      99.0       NaN   86.016    공대3호관\n...                   ...           ...       ...       ...      ...      ...\n62593 2021-09-30 20:00:00          22.0      70.0       NaN   36.928      진리관\n62594 2021-09-30 21:00:00          21.6      71.0       NaN   37.504      진리관\n62595 2021-09-30 22:00:00          21.2      75.0       NaN   27.264      진리관\n62596 2021-09-30 23:00:00          21.2      75.0       NaN   21.376      진리관\n62597 2021-10-01 00:00:00          19.5      80.0       NaN   20.736      진리관\n\n[186 rows x 6 columns]",
      "text/html": "<div>\n<style scoped>\n    .dataframe tbody tr th:only-of-type {\n        vertical-align: middle;\n    }\n\n    .dataframe tbody tr th {\n        vertical-align: top;\n    }\n\n    .dataframe thead th {\n        text-align: right;\n    }\n</style>\n<table border=\"1\" class=\"dataframe\">\n  <thead>\n    <tr style=\"text-align: right;\">\n      <th></th>\n      <th>date</th>\n      <th>temperatures</th>\n      <th>humidity</th>\n      <th>pressure</th>\n      <th>energy</th>\n      <th>building</th>\n    </tr>\n  </thead>\n  <tbody>\n    <tr>\n      <th>6522</th>\n      <td>2021-09-29 18:00:00</td>\n      <td>NaN</td>\n      <td>NaN</td>\n      <td>NaN</td>\n      <td>114.688</td>\n      <td>공대3호관</td>\n    </tr>\n    <tr>\n      <th>6523</th>\n      <td>2021-09-29 19:00:00</td>\n      <td>NaN</td>\n      <td>NaN</td>\n      <td>NaN</td>\n      <td>98.304</td>\n      <td>공대3호관</td>\n    </tr>\n    <tr>\n      <th>6524</th>\n      <td>2021-09-29 20:00:00</td>\n      <td>NaN</td>\n      <td>NaN</td>\n      <td>NaN</td>\n      <td>90.112</td>\n      <td>공대3호관</td>\n    </tr>\n    <tr>\n      <th>6525</th>\n      <td>2021-09-29 21:00:00</td>\n      <td>22.3</td>\n      <td>99.0</td>\n      <td>NaN</td>\n      <td>90.112</td>\n      <td>공대3호관</td>\n    </tr>\n    <tr>\n      <th>6526</th>\n      <td>2021-09-29 22:00:00</td>\n      <td>21.9</td>\n      <td>99.0</td>\n      <td>NaN</td>\n      <td>86.016</td>\n      <td>공대3호관</td>\n    </tr>\n    <tr>\n      <th>...</th>\n      <td>...</td>\n      <td>...</td>\n      <td>...</td>\n      <td>...</td>\n      <td>...</td>\n      <td>...</td>\n    </tr>\n    <tr>\n      <th>62593</th>\n      <td>2021-09-30 20:00:00</td>\n      <td>22.0</td>\n      <td>70.0</td>\n      <td>NaN</td>\n      <td>36.928</td>\n      <td>진리관</td>\n    </tr>\n    <tr>\n      <th>62594</th>\n      <td>2021-09-30 21:00:00</td>\n      <td>21.6</td>\n      <td>71.0</td>\n      <td>NaN</td>\n      <td>37.504</td>\n      <td>진리관</td>\n    </tr>\n    <tr>\n      <th>62595</th>\n      <td>2021-09-30 22:00:00</td>\n      <td>21.2</td>\n      <td>75.0</td>\n      <td>NaN</td>\n      <td>27.264</td>\n      <td>진리관</td>\n    </tr>\n    <tr>\n      <th>62596</th>\n      <td>2021-09-30 23:00:00</td>\n      <td>21.2</td>\n      <td>75.0</td>\n      <td>NaN</td>\n      <td>21.376</td>\n      <td>진리관</td>\n    </tr>\n    <tr>\n      <th>62597</th>\n      <td>2021-10-01 00:00:00</td>\n      <td>19.5</td>\n      <td>80.0</td>\n      <td>NaN</td>\n      <td>20.736</td>\n      <td>진리관</td>\n    </tr>\n  </tbody>\n</table>\n<p>186 rows × 6 columns</p>\n</div>"
     },
     "execution_count": 7,
     "metadata": {},
     "output_type": "execute_result"
    }
   ],
   "source": [
    "from ultils import checking_data_null\n",
    "\n",
    "null_rows = checking_data_null(df)\n",
    "\n",
    "null_rows"
   ],
   "metadata": {
    "collapsed": false
   }
  },
  {
   "cell_type": "code",
   "execution_count": 8,
   "outputs": [
    {
     "data": {
      "text/plain": "                  date  temperatures  humidity  pressure   energy building\n0  2021-01-01 00:00:00          -1.8      79.0    1018.5   90.112    공대3호관\n1  2021-01-01 01:00:00          -2.9      83.0    1018.2   87.470    공대3호관\n2  2021-01-01 02:00:00          -2.9      81.0    1018.2   83.896    공대3호관\n3  2021-01-01 03:00:00          -2.8      86.0    1018.6   85.342    공대3호관\n4  2021-01-01 04:00:00          -2.9      87.0    1018.6   83.940    공대3호관\n..                 ...           ...       ...       ...      ...      ...\n95 2021-01-04 23:00:00           1.4      88.0    1020.1  122.624    공대3호관\n96 2021-01-05 00:00:00           1.7      90.0    1020.2  116.352    공대3호관\n97 2021-01-05 01:00:00           1.3      93.0    1019.8  110.592    공대3호관\n98 2021-01-05 02:00:00           1.2      92.0    1019.8  100.736    공대3호관\n99 2021-01-05 03:00:00           1.1      92.0    1019.7   99.200    공대3호관\n\n[100 rows x 6 columns]",
      "text/html": "<div>\n<style scoped>\n    .dataframe tbody tr th:only-of-type {\n        vertical-align: middle;\n    }\n\n    .dataframe tbody tr th {\n        vertical-align: top;\n    }\n\n    .dataframe thead th {\n        text-align: right;\n    }\n</style>\n<table border=\"1\" class=\"dataframe\">\n  <thead>\n    <tr style=\"text-align: right;\">\n      <th></th>\n      <th>date</th>\n      <th>temperatures</th>\n      <th>humidity</th>\n      <th>pressure</th>\n      <th>energy</th>\n      <th>building</th>\n    </tr>\n  </thead>\n  <tbody>\n    <tr>\n      <th>0</th>\n      <td>2021-01-01 00:00:00</td>\n      <td>-1.8</td>\n      <td>79.0</td>\n      <td>1018.5</td>\n      <td>90.112</td>\n      <td>공대3호관</td>\n    </tr>\n    <tr>\n      <th>1</th>\n      <td>2021-01-01 01:00:00</td>\n      <td>-2.9</td>\n      <td>83.0</td>\n      <td>1018.2</td>\n      <td>87.470</td>\n      <td>공대3호관</td>\n    </tr>\n    <tr>\n      <th>2</th>\n      <td>2021-01-01 02:00:00</td>\n      <td>-2.9</td>\n      <td>81.0</td>\n      <td>1018.2</td>\n      <td>83.896</td>\n      <td>공대3호관</td>\n    </tr>\n    <tr>\n      <th>3</th>\n      <td>2021-01-01 03:00:00</td>\n      <td>-2.8</td>\n      <td>86.0</td>\n      <td>1018.6</td>\n      <td>85.342</td>\n      <td>공대3호관</td>\n    </tr>\n    <tr>\n      <th>4</th>\n      <td>2021-01-01 04:00:00</td>\n      <td>-2.9</td>\n      <td>87.0</td>\n      <td>1018.6</td>\n      <td>83.940</td>\n      <td>공대3호관</td>\n    </tr>\n    <tr>\n      <th>...</th>\n      <td>...</td>\n      <td>...</td>\n      <td>...</td>\n      <td>...</td>\n      <td>...</td>\n      <td>...</td>\n    </tr>\n    <tr>\n      <th>95</th>\n      <td>2021-01-04 23:00:00</td>\n      <td>1.4</td>\n      <td>88.0</td>\n      <td>1020.1</td>\n      <td>122.624</td>\n      <td>공대3호관</td>\n    </tr>\n    <tr>\n      <th>96</th>\n      <td>2021-01-05 00:00:00</td>\n      <td>1.7</td>\n      <td>90.0</td>\n      <td>1020.2</td>\n      <td>116.352</td>\n      <td>공대3호관</td>\n    </tr>\n    <tr>\n      <th>97</th>\n      <td>2021-01-05 01:00:00</td>\n      <td>1.3</td>\n      <td>93.0</td>\n      <td>1019.8</td>\n      <td>110.592</td>\n      <td>공대3호관</td>\n    </tr>\n    <tr>\n      <th>98</th>\n      <td>2021-01-05 02:00:00</td>\n      <td>1.2</td>\n      <td>92.0</td>\n      <td>1019.8</td>\n      <td>100.736</td>\n      <td>공대3호관</td>\n    </tr>\n    <tr>\n      <th>99</th>\n      <td>2021-01-05 03:00:00</td>\n      <td>1.1</td>\n      <td>92.0</td>\n      <td>1019.7</td>\n      <td>99.200</td>\n      <td>공대3호관</td>\n    </tr>\n  </tbody>\n</table>\n<p>100 rows × 6 columns</p>\n</div>"
     },
     "execution_count": 8,
     "metadata": {},
     "output_type": "execute_result"
    }
   ],
   "source": [
    "df.head(100)"
   ],
   "metadata": {
    "collapsed": false
   }
  },
  {
   "cell_type": "code",
   "execution_count": 9,
   "outputs": [],
   "source": [
    "# df.to_csv(\"cnu_multivariable.csv\", index=False)"
   ],
   "metadata": {
    "collapsed": false
   }
  }
 ],
 "metadata": {
  "kernelspec": {
   "display_name": "Python 3",
   "language": "python",
   "name": "python3"
  },
  "language_info": {
   "codemirror_mode": {
    "name": "ipython",
    "version": 2
   },
   "file_extension": ".py",
   "mimetype": "text/x-python",
   "name": "python",
   "nbconvert_exporter": "python",
   "pygments_lexer": "ipython2",
   "version": "2.7.6"
  }
 },
 "nbformat": 4,
 "nbformat_minor": 0
}
